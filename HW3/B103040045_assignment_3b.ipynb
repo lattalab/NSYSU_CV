{
 "cells": [
  {
   "cell_type": "code",
   "execution_count": 1,
   "metadata": {},
   "outputs": [],
   "source": [
    "from tensorflow.keras.layers import MaxPooling2D, Conv2D\n",
    "import numpy as np\n",
    "import tensorflow as tf\n",
    "\n",
    "# Step 2 (30 points)\n",
    "def net48_siso(): \n",
    "    height, width = 48, 48\n",
    "    inputs = tf.keras.Input((height, width, 3))\n",
    "    x = Conv2D(8,3,1,'same',activation='relu')(inputs) # (48, 48, 8)\n",
    "    # enter your code here\n",
    "    x = MaxPooling2D(2,2)(x) # (24, 24, 8)\n",
    "    x = Conv2D(16,3,1, 'same',activation='relu')(x) # (24, 24, 16)\n",
    "    x = MaxPooling2D(2,2)(x) # (12, 12, 16)\n",
    "    x = Conv2D(8,3,1,'valid', activation='relu')(x) # (10, 10, 8)\n",
    "    x = MaxPooling2D(2,2)(x) # (5, 5, 8)\n",
    "    x = Conv2D(4,3,1,'valid', activation='relu')(x) # (3, 3, 4)\n",
    "    # output layer\n",
    "    x = Conv2D(2, 3, 1, 'valid', activation='softmax', name='cls_output')(x) # (1, 1, 2)\n",
    "    outputs = x\n",
    "    return tf.keras.Model(inputs = inputs, outputs = outputs)\n"
   ]
  },
  {
   "cell_type": "code",
   "execution_count": 6,
   "metadata": {},
   "outputs": [],
   "source": [
    "# Step 3 (15 points)\n",
    "def net48_simo(): \n",
    "    height, width = 48, 48\n",
    "    inputs = tf.keras.Input((height, width, 3))\n",
    "    x = Conv2D(8,3,1,'same',activation='relu')(inputs) # (48, 48, 8)\n",
    "    # enter your code here\n",
    "    x = MaxPooling2D(2,2)(x) # (24, 24, 8)\n",
    "    x = Conv2D(16,5,1, 'valid',activation='relu')(x) # (20, 20, 16)\n",
    "    x = MaxPooling2D(2,2)(x) # (10, 10, 16)\n",
    "    x = Conv2D(8,3,1,'valid', activation='relu')(x) # (8, 8, 8)\n",
    "    x = Conv2D(4,3,1,'valid', activation='relu')(x) # (6, 6, 4)\n",
    "    x = MaxPooling2D(2,2)(x) # (3, 3, 4)\n",
    "    # output layer 1\n",
    "    x1 = Conv2D(2, 3, 1, 'valid', activation='softmax', name='cls_output')(x) # (1, 1, 2)\n",
    "    # output layer 2\n",
    "    x2 = Conv2D(4, 3, 1, 'valid', name='reg_output')(x) # (1, 1, 4)\n",
    "    outputs = x1, x2\n",
    "    # you need to modify the following line\n",
    "    return tf.keras.Model(inputs = inputs, outputs = outputs)"
   ]
  },
  {
   "cell_type": "code",
   "execution_count": 3,
   "metadata": {},
   "outputs": [],
   "source": [
    "# Do not change below.\n",
    "def check_model(cnn_model, is_simo=False):\n",
    "  print('Checking the CNN model...')\n",
    "  is_passed = True\n",
    "  is_cls_output = False\n",
    "  is_reg_output = False\n",
    "  ishape = cnn_model.input_shape[1:]\n",
    "  if (48,48,3) != ishape:\n",
    "     print('Error! The input shape', ishape, 'is not equal to (48,48,3)')\n",
    "     is_passed = False\n",
    "  for i,layer in enumerate(cnn_model.layers):\n",
    "     if layer.name == 'cls_output':\n",
    "       oshape = layer.output_shape[1:]\n",
    "       is_cls_output = True\n",
    "       if (1,1,2) != oshape:\n",
    "          print('Error! The output shape', oshape, 'is not equal to (1,1,2)')\n",
    "          is_passed = False\n",
    "     if layer.name == 'reg_output':\n",
    "       oshape = layer.output_shape[1:]\n",
    "       is_reg_output = True\n",
    "       if (1,1,4) != oshape:\n",
    "          print('Error! The output shape', oshape, 'is not equal to (1,1,4)')\n",
    "          is_passed = False\n",
    "     layer_type = layer.__class__.__name__\n",
    "     if layer_type == 'Dense':\n",
    "       print('Error! Cannot use Dense layers.')\n",
    "       is_passed = False\n",
    "     if layer_type == 'Conv2D':\n",
    "       kernel_size = layer.kernel_size\n",
    "       strides = layer.strides\n",
    "       if np.max(kernel_size) > 7:\n",
    "         print('({:d} {:s}) Error! kernel_size should be less than or equal to 7'.format(i, layer_type))\n",
    "         is_passed = False\n",
    "       if np.max(strides) > 2:\n",
    "         print('({:d} {:s}) Error! stride should be less than or equal to 2'.format(i, layer_type))\n",
    "         is_passed = False\n",
    "     if layer_type == 'MaxPooling2D':\n",
    "       pool_size = layer.pool_size\n",
    "       strides = layer.strides\n",
    "       if np.max(pool_size) > 2:\n",
    "         print('({:d} {:s}) Error! pool_size should be less than or equal to 2'.format(i, layer_type))\n",
    "         is_passed = False\n",
    "       if np.max(strides) > 2:\n",
    "         print('({:d} {:s}) Error! stride should be less than or equal to 2'.format(i, layer_type))\n",
    "         is_passed = False\n",
    "  if not is_cls_output:\n",
    "     print('Error! There should be a Conv. layer with name cls_output')\n",
    "     is_passed = False\n",
    "  if is_simo:\n",
    "     if not is_reg_output:\n",
    "       print('Error! There should be a Conv. layer with name reg_output')\n",
    "       is_passed = False\n",
    "  if is_passed:\n",
    "     print('Great! The CNN model satisfies all the requirements.')\n"
   ]
  },
  {
   "cell_type": "code",
   "execution_count": 4,
   "metadata": {},
   "outputs": [
    {
     "name": "stdout",
     "output_type": "stream",
     "text": [
      "Model: \"model\"\n",
      "_________________________________________________________________\n",
      " Layer (type)                Output Shape              Param #   \n",
      "=================================================================\n",
      " input_1 (InputLayer)        [(None, 48, 48, 3)]       0         \n",
      "                                                                 \n",
      " conv2d (Conv2D)             (None, 48, 48, 8)         224       \n",
      "                                                                 \n",
      " max_pooling2d (MaxPooling2D  (None, 24, 24, 8)        0         \n",
      " )                                                               \n",
      "                                                                 \n",
      " conv2d_1 (Conv2D)           (None, 24, 24, 16)        1168      \n",
      "                                                                 \n",
      " max_pooling2d_1 (MaxPooling  (None, 12, 12, 16)       0         \n",
      " 2D)                                                             \n",
      "                                                                 \n",
      " conv2d_2 (Conv2D)           (None, 10, 10, 8)         1160      \n",
      "                                                                 \n",
      " max_pooling2d_2 (MaxPooling  (None, 5, 5, 8)          0         \n",
      " 2D)                                                             \n",
      "                                                                 \n",
      " conv2d_3 (Conv2D)           (None, 3, 3, 4)           292       \n",
      "                                                                 \n",
      " cls_output (Conv2D)         (None, 1, 1, 2)           74        \n",
      "                                                                 \n",
      "=================================================================\n",
      "Total params: 2,918\n",
      "Trainable params: 2,918\n",
      "Non-trainable params: 0\n",
      "_________________________________________________________________\n",
      "Checking the CNN model...\n",
      "Great! The CNN model satisfies all the requirements.\n",
      "\n"
     ]
    }
   ],
   "source": [
    "# Do not change below.\n",
    "model48_siso = net48_siso()\n",
    "model48_siso.summary()\n",
    "check_model(model48_siso)\n",
    "print()"
   ]
  },
  {
   "cell_type": "code",
   "execution_count": 7,
   "metadata": {},
   "outputs": [
    {
     "name": "stdout",
     "output_type": "stream",
     "text": [
      "Model: \"model_1\"\n",
      "__________________________________________________________________________________________________\n",
      " Layer (type)                   Output Shape         Param #     Connected to                     \n",
      "==================================================================================================\n",
      " input_3 (InputLayer)           [(None, 48, 48, 3)]  0           []                               \n",
      "                                                                                                  \n",
      " conv2d_8 (Conv2D)              (None, 48, 48, 8)    224         ['input_3[0][0]']                \n",
      "                                                                                                  \n",
      " max_pooling2d_7 (MaxPooling2D)  (None, 24, 24, 8)   0           ['conv2d_8[0][0]']               \n",
      "                                                                                                  \n",
      " conv2d_9 (Conv2D)              (None, 20, 20, 16)   3216        ['max_pooling2d_7[0][0]']        \n",
      "                                                                                                  \n",
      " max_pooling2d_8 (MaxPooling2D)  (None, 10, 10, 16)  0           ['conv2d_9[0][0]']               \n",
      "                                                                                                  \n",
      " conv2d_10 (Conv2D)             (None, 8, 8, 8)      1160        ['max_pooling2d_8[0][0]']        \n",
      "                                                                                                  \n",
      " conv2d_11 (Conv2D)             (None, 6, 6, 4)      292         ['conv2d_10[0][0]']              \n",
      "                                                                                                  \n",
      " max_pooling2d_9 (MaxPooling2D)  (None, 3, 3, 4)     0           ['conv2d_11[0][0]']              \n",
      "                                                                                                  \n",
      " cls_output (Conv2D)            (None, 1, 1, 2)      74          ['max_pooling2d_9[0][0]']        \n",
      "                                                                                                  \n",
      " reg_output (Conv2D)            (None, 1, 1, 4)      148         ['max_pooling2d_9[0][0]']        \n",
      "                                                                                                  \n",
      "==================================================================================================\n",
      "Total params: 5,114\n",
      "Trainable params: 5,114\n",
      "Non-trainable params: 0\n",
      "__________________________________________________________________________________________________\n",
      "Checking the CNN model...\n",
      "Great! The CNN model satisfies all the requirements.\n",
      "\n"
     ]
    }
   ],
   "source": [
    "# Do not change below.\n",
    "model48_simo = net48_simo()\n",
    "model48_simo.summary()\n",
    "check_model(model48_simo, is_simo=True)\n",
    "print()"
   ]
  },
  {
   "cell_type": "code",
   "execution_count": 8,
   "metadata": {},
   "outputs": [
    {
     "name": "stdout",
     "output_type": "stream",
     "text": [
      "1/1 [==============================] - 2s 2s/step\n",
      "(1, 1, 1, 2)\n",
      "(1, 1, 1, 4)\n",
      "[0.47933966 0.52066034]\n"
     ]
    }
   ],
   "source": [
    "# Do not change below.\n",
    "img = np.random.randn(1, 48, 48, 3)\n",
    "outputs = model48_simo.predict(img)\n",
    "print(outputs[0].shape) # should display (1,1,1,2)\n",
    "print(outputs[1].shape) # should display (1,1,1,4)\n",
    "cls = np.reshape(outputs[0], (2,))\n",
    "reg = np.reshape(outputs[1], (4,))\n",
    "print(cls)"
   ]
  },
  {
   "cell_type": "code",
   "execution_count": null,
   "metadata": {},
   "outputs": [],
   "source": [
    "# Question 2 (5 points)\n",
    "# Why cls[0] + cls[1] is always equal to one regardless of  the values of img?\n",
    "\n",
    "# [Answer]\n",
    "# Before getting the cls_output, \n",
    "# the calculated convolution result will be passed to the softmax.\n",
    "# Softmax function will make the sum of each input to 1.\n",
    "# So cls[0] + cls[1] is always equal to 1 regardless of the values of img."
   ]
  }
 ],
 "metadata": {
  "kernelspec": {
   "display_name": "cpu-tf",
   "language": "python",
   "name": "python3"
  },
  "language_info": {
   "codemirror_mode": {
    "name": "ipython",
    "version": 3
   },
   "file_extension": ".py",
   "mimetype": "text/x-python",
   "name": "python",
   "nbconvert_exporter": "python",
   "pygments_lexer": "ipython3",
   "version": "3.8.20"
  }
 },
 "nbformat": 4,
 "nbformat_minor": 2
}
