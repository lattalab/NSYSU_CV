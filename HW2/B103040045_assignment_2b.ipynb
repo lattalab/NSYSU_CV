{
 "cells": [
  {
   "cell_type": "code",
   "execution_count": 36,
   "metadata": {},
   "outputs": [
    {
     "name": "stdout",
     "output_type": "stream",
     "text": [
      "Step 2b.2:\n",
      "      width < 10: 34706\n",
      "10 <= width < 20: 57250\n",
      "20 <= width < 30: 24885\n",
      "30 <= width < 40: 13338\n",
      "40 <= width < 50: 8011\n",
      "50 <= width     : 20699\n",
      "\n",
      "Step 2b.3:\n",
      "    <= width/height < 0.6: 7720\n",
      "0.6 <= width/height < 0.7: 22966\n",
      "0.7 <= width/height < 0.8: 46997\n",
      "0.8 <= width/height < 0.9: 45458\n",
      "0.9 <= width/height < 1.0: 16786\n",
      "1.0 <= width/height      : 18962\n",
      "\n",
      "Step 2b.4:\n"
     ]
    },
    {
     "data": {
      "image/png": "[encoded data removed]",
      "text/plain": [
       "<Figure size 640x480 with 1 Axes>"
      ]
     },
     "metadata": {},
     "output_type": "display_data"
    }
   ],
   "source": [
    "import numpy as np\n",
    "import matplotlib.pyplot as plt\n",
    "%matplotlib inline\n",
    "\n",
    "if __name__ == '__main__':\n",
    "  anno_file = 'annotation.txt'\n",
    "  with open(anno_file, 'r') as fp:\n",
    "    lines = fp.readlines()    \n",
    "  # Enter your code here (25%)\n",
    "  # You might use the following to access each line\n",
    "  # for line in lines:\n",
    "\n",
    "  # Initialize an empty list to store all(or valid) bounding box widths and heights\n",
    "  all_widths = []\n",
    "  all_heights = []\n",
    "  valid_widths = []\n",
    "  valid_heights = []\n",
    "\n",
    "  for line in lines:\n",
    "      # use space to separate the data\n",
    "      data = line.strip().split(' ')\n",
    "      # bbox information start from index 1 and convert to int\n",
    "      bbox_info = [int(x) for x in data[1:]]\n",
    "      # create a np array to store each bbox shape = (num of bbox, 4)\n",
    "      bbox_list = np.array(bbox_info).reshape(-1, 4)\n",
    "      # examine the valid bbox_list (x1 >=0, y1 >= 0, x2 > x1, y2 > y1)\n",
    "      # using mask to find the value that corresponding to the condition\n",
    "      # when mask = 1, the np.array will select the value. Otherwise, discard it.\n",
    "      mask = (bbox_list[:, 0] >= 0) & (bbox_list[:, 1] >= 0) & \\\n",
    "             (bbox_list[:, 2] > bbox_list[:, 0]) & (bbox_list[:, 3] > bbox_list[:, 1])\n",
    "      valid_bbox_list = bbox_list[mask]\n",
    "\n",
    "      ## Here storing the valid bbox for the following question ##\n",
    "      # calculate the width(or heights) for each bounding box\n",
    "      # The width of a bounding box is defined as x2-x1+1\n",
    "      # The height of a bounding box is defined as y2-y1+1\n",
    "      valid_width = valid_bbox_list[:, 2] - valid_bbox_list[:, 0] + 1\n",
    "      valid_height = valid_bbox_list[:, 3] - valid_bbox_list[:, 1] + 1\n",
    "      # extend(iterate to add) the widths(or heights) to the list\n",
    "      valid_widths.extend(valid_width)\n",
    "      valid_heights.extend(valid_height)\n",
    "      ## But it need to store all bbox information for the question 2b.5 ##\n",
    "      width = bbox_list[:, 2] - bbox_list[:, 0] + 1\n",
    "      height = bbox_list[:, 3] - bbox_list[:, 1] + 1\n",
    "      all_widths.extend(width)\n",
    "      all_heights.extend(height)\n",
    "\n",
    "  # Convert all_widths(or all_hieghts) to a numpy array for statistics\n",
    "  valid_widths = np.array(valid_widths)\n",
    "  valid_heights = np.array(valid_heights)\n",
    "  \n",
    "  # display statistics (2b.2)\n",
    "  # in numpy, np.sum can be used to calculate the sum of all true elements in an boolean array\n",
    "  print('Step 2b.2:')\n",
    "  print(f'      width < 10: {np.sum(valid_widths < 10)}')\n",
    "  print(f'10 <= width < 20: {np.sum((valid_widths >= 10) & (valid_widths < 20))}')\n",
    "  print(f'20 <= width < 30: {np.sum((valid_widths >= 20) & (valid_widths < 30))}')\n",
    "  print(f'30 <= width < 40: {np.sum((valid_widths >= 30) & (valid_widths < 40))}')\n",
    "  print(f'40 <= width < 50: {np.sum((valid_widths >= 40) & (valid_widths < 50))}')\n",
    "  print(f'50 <= width     : {np.sum(valid_widths >= 50)}')\n",
    "  print()\n",
    "\n",
    "  # display statistics (2b.3)\n",
    "  valid_ranges = valid_widths/valid_heights\n",
    "  print('Step 2b.3:')\n",
    "  print(f'    <= width/height < 0.6: {np.sum(valid_ranges < 0.6)}')\n",
    "  print(f'0.6 <= width/height < 0.7: {np.sum((valid_ranges >= 0.6) & (valid_ranges < 0.7))}')\n",
    "  print(f'0.7 <= width/height < 0.8: {np.sum((valid_ranges >= 0.7) & (valid_ranges < 0.8))}')\n",
    "  print(f'0.8 <= width/height < 0.9: {np.sum((valid_ranges >= 0.8) & (valid_ranges < 0.9))}')\n",
    "  print(f'0.9 <= width/height < 1.0: {np.sum((valid_ranges >= 0.9) & (valid_ranges < 1.0))}')\n",
    "  print(f'1.0 <= width/height      : {np.sum((valid_ranges >= 1.0))}')\n",
    "  print()\n",
    "\n",
    "  # Display the histogram of width\n",
    "  print('Step 2b.4:')\n",
    "  plt.hist(valid_widths, range(0, 101, 10), rwidth=0.85)\n",
    "  plt.xlabel('Width')\n",
    "  plt.ylabel('Counts')\n"
   ]
  },
  {
   "cell_type": "code",
   "execution_count": 35,
   "metadata": {},
   "outputs": [
    {
     "name": "stdout",
     "output_type": "stream",
     "text": [
      "number of bboxs: 159424, number of valid bboxs 158889\n",
      "The number of deleted bboxs: 535\n"
     ]
    }
   ],
   "source": [
    "# Step 2b.5: In Step 2b.1, we only consider valid bounding boxes. How many bounding boxes are invalid? Modify the above code to find the answer. (5%)\n",
    "# Write down your answer here.\n",
    "\n",
    "# Answers:\n",
    "# I stored the all bbox information and valid bbox information in the above code.\n",
    "# Therefore, doing the simple math by \"number of all - number of valid\".\n",
    "# By doing so, I can know the answer of deleted number which means invalid bbox numbers.\n",
    "# The answer is 535.\n",
    "print(f'number of bboxs: {len(all_widths)}, number of valid bboxs {len(valid_widths)}')\n",
    "print(f'The number of deleted bboxs: {len(all_widths)-len(valid_widths)}')"
   ]
  },
  {
   "cell_type": "code",
   "execution_count": null,
   "metadata": {},
   "outputs": [],
   "source": []
  }
 ],
 "metadata": {
  "kernelspec": {
   "display_name": "tf",
   "language": "python",
   "name": "python3"
  },
  "language_info": {
   "codemirror_mode": {
    "name": "ipython",
    "version": 3
   },
   "file_extension": ".py",
   "mimetype": "text/x-python",
   "name": "python",
   "nbconvert_exporter": "python",
   "pygments_lexer": "ipython3",
   "version": "3.8.20"
  }
 },
 "nbformat": 4,
 "nbformat_minor": 2
}
